{
 "cells": [
  {
   "cell_type": "code",
   "execution_count": 75,
   "metadata": {},
   "outputs": [
    {
     "ename": "FileNotFoundError",
     "evalue": "[Errno 2] No such file or directory: '/Users/zhaoziang/Documents/GitHub/Factor-Backtesting/notebooks/../factor/high_close_diff'",
     "output_type": "error",
     "traceback": [
      "\u001b[0;31m---------------------------------------------------------------------------\u001b[0m",
      "\u001b[0;31mFileNotFoundError\u001b[0m                         Traceback (most recent call last)",
      "Cell \u001b[0;32mIn[75], line 26\u001b[0m\n\u001b[1;32m     23\u001b[0m evaluator \u001b[38;5;241m=\u001b[39m FactorEvaluator(start_date, end_date, trade_date, factor_path, ret_path, ud_path, group)\n\u001b[1;32m     25\u001b[0m \u001b[38;5;66;03m# 准备数据并计算指标\u001b[39;00m\n\u001b[0;32m---> 26\u001b[0m evaluator\u001b[38;5;241m.\u001b[39mprepare_data()\n\u001b[1;32m     27\u001b[0m result, pnl, pro, ic \u001b[38;5;241m=\u001b[39m evaluator\u001b[38;5;241m.\u001b[39mcalculate_effectiveness()\n\u001b[1;32m     29\u001b[0m \u001b[38;5;66;03m# 初始化 ReportGenerator 并生成报告\u001b[39;00m\n",
      "File \u001b[0;32m~/Documents/GitHub/Factor-Backtesting/notebooks/../src/factor_evaluation.py:25\u001b[0m, in \u001b[0;36mFactorEvaluator.prepare_data\u001b[0;34m(self)\u001b[0m\n\u001b[1;32m     23\u001b[0m \u001b[38;5;28;01mdef\u001b[39;00m \u001b[38;5;21mprepare_data\u001b[39m(\u001b[38;5;28mself\u001b[39m):\n\u001b[1;32m     24\u001b[0m     trade_date \u001b[38;5;241m=\u001b[39m pickle\u001b[38;5;241m.\u001b[39mload(\u001b[38;5;28mopen\u001b[39m(\u001b[38;5;28mself\u001b[39m\u001b[38;5;241m.\u001b[39mtrade_date, \u001b[38;5;124m'\u001b[39m\u001b[38;5;124mrb\u001b[39m\u001b[38;5;124m'\u001b[39m))\n\u001b[0;32m---> 25\u001b[0m     factor_files \u001b[38;5;241m=\u001b[39m \u001b[38;5;28msorted\u001b[39m(os\u001b[38;5;241m.\u001b[39mlistdir(\u001b[38;5;28mself\u001b[39m\u001b[38;5;241m.\u001b[39mfactor_path))\n\u001b[1;32m     26\u001b[0m     ret_files \u001b[38;5;241m=\u001b[39m \u001b[38;5;28msorted\u001b[39m(os\u001b[38;5;241m.\u001b[39mlistdir(\u001b[38;5;28mself\u001b[39m\u001b[38;5;241m.\u001b[39mret_path))\n\u001b[1;32m     28\u001b[0m     \u001b[38;5;28;01mfor\u001b[39;00m file \u001b[38;5;129;01min\u001b[39;00m tqdm(factor_files):\n",
      "\u001b[0;31mFileNotFoundError\u001b[0m: [Errno 2] No such file or directory: '/Users/zhaoziang/Documents/GitHub/Factor-Backtesting/notebooks/../factor/high_close_diff'"
     ]
    }
   ],
   "source": [
    "import sys\n",
    "sys.path.append('../src')  # 如果你需要从 src 导入模块\n",
    "import os\n",
    "import pandas as pd\n",
    "import numpy as np\n",
    "import matplotlib.pyplot as plt\n",
    "import pickle\n",
    "from factor_evaluation import FactorEvaluator\n",
    "from report_generation import ReportGenerator\n",
    "\n",
    "# 获取当前文件的绝对路径\n",
    "current_dir = os.path.dirname(os.path.abspath('__file__'))\n",
    "\n",
    "# 定义参数\n",
    "start_date = '2020-05-05'\n",
    "end_date = '2023-05-05'\n",
    "trade_date = os.path.join(current_dir, '../data/date.pkl')  # 使用绝对路径\n",
    "factor_path = os.path.join(current_dir, '../factor/high_close_diff')  # 使用绝对路径\n",
    "ret_path = os.path.join(current_dir, '../data/data_ret1')  # 使用绝对路径\n",
    "ud_path = os.path.join(current_dir, '../data/data_ud')  # 使用绝对路径\n",
    "group = [0.0, 0.1, 0.2, 0.3, 0.4, 0.5, 0.6, 0.7, 0.8, 0.9, 1.0]\n",
    "# 初始化 FactorEvaluator\n",
    "evaluator = FactorEvaluator(start_date, end_date, trade_date, factor_path, ret_path, ud_path, group)\n",
    "\n",
    "# 准备数据并计算指标\n",
    "evaluator.prepare_data()\n",
    "result, pnl, pro, ic = evaluator.calculate_effectiveness()\n",
    "\n",
    "# 初始化 ReportGenerator 并生成报告\n",
    "report_generator = ReportGenerator(result, pnl, pro, ic)\n",
    "report_generator.generate_report()\n",
    "\n",
    "# 查看结果\n",
    "result"
   ]
  },
  {
   "cell_type": "code",
   "execution_count": 72,
   "metadata": {},
   "outputs": [
    {
     "name": "stdout",
     "output_type": "stream",
     "text": [
      "../data/date.pkl\n"
     ]
    }
   ],
   "source": [
    "print(trade_date)"
   ]
  },
  {
   "cell_type": "code",
   "execution_count": 58,
   "metadata": {},
   "outputs": [],
   "source": [
    "evaluator = FactorEvaluator(start_date, end_date, trade_date, factor_path, ret_path, ud_path, group)"
   ]
  },
  {
   "cell_type": "code",
   "execution_count": 59,
   "metadata": {},
   "outputs": [
    {
     "data": {
      "text/plain": [
       "<bound method FactorEvaluator.prepare_data of <factor_evaluation.FactorEvaluator object at 0x168e5f7d0>>"
      ]
     },
     "execution_count": 59,
     "metadata": {},
     "output_type": "execute_result"
    }
   ],
   "source": [
    "evaluator.prepare_data"
   ]
  },
  {
   "cell_type": "code",
   "execution_count": 60,
   "metadata": {},
   "outputs": [],
   "source": [
    "result, pnl, pro, ic = evaluator.calculate_effectiveness()"
   ]
  },
  {
   "cell_type": "code",
   "execution_count": 61,
   "metadata": {},
   "outputs": [],
   "source": [
    "report_generator = ReportGenerator(result, pnl, pro, ic)"
   ]
  },
  {
   "cell_type": "code",
   "execution_count": 62,
   "metadata": {},
   "outputs": [
    {
     "data": {
      "text/html": [
       "<div>\n",
       "<style scoped>\n",
       "    .dataframe tbody tr th:only-of-type {\n",
       "        vertical-align: middle;\n",
       "    }\n",
       "\n",
       "    .dataframe tbody tr th {\n",
       "        vertical-align: top;\n",
       "    }\n",
       "\n",
       "    .dataframe thead th {\n",
       "        text-align: right;\n",
       "    }\n",
       "</style>\n",
       "<table border=\"1\" class=\"dataframe\">\n",
       "  <thead>\n",
       "    <tr style=\"text-align: right;\">\n",
       "      <th></th>\n",
       "    </tr>\n",
       "  </thead>\n",
       "  <tbody>\n",
       "  </tbody>\n",
       "</table>\n",
       "</div>"
      ],
      "text/plain": [
       "Empty DataFrame\n",
       "Columns: []\n",
       "Index: []"
      ]
     },
     "execution_count": 62,
     "metadata": {},
     "output_type": "execute_result"
    }
   ],
   "source": [
    "report_generator.generate_report()"
   ]
  },
  {
   "cell_type": "code",
   "execution_count": 63,
   "metadata": {},
   "outputs": [
    {
     "name": "stdout",
     "output_type": "stream",
     "text": [
      "Empty DataFrame\n",
      "Columns: []\n",
      "Index: []\n"
     ]
    }
   ],
   "source": [
    "print(result)"
   ]
  },
  {
   "cell_type": "code",
   "execution_count": 18,
   "metadata": {},
   "outputs": [
    {
     "ename": "FileNotFoundError",
     "evalue": "[Errno 2] No such file or directory: './data/date.pkl'",
     "output_type": "error",
     "traceback": [
      "\u001b[0;31m---------------------------------------------------------------------------\u001b[0m",
      "\u001b[0;31mFileNotFoundError\u001b[0m                         Traceback (most recent call last)",
      "Cell \u001b[0;32mIn[18], line 29\u001b[0m\n\u001b[1;32m     26\u001b[0m group \u001b[38;5;241m=\u001b[39m [\u001b[38;5;241m0.0\u001b[39m, \u001b[38;5;241m0.1\u001b[39m, \u001b[38;5;241m0.2\u001b[39m, \u001b[38;5;241m0.3\u001b[39m, \u001b[38;5;241m0.4\u001b[39m, \u001b[38;5;241m0.5\u001b[39m, \u001b[38;5;241m0.6\u001b[39m, \u001b[38;5;241m0.7\u001b[39m, \u001b[38;5;241m0.8\u001b[39m, \u001b[38;5;241m0.9\u001b[39m, \u001b[38;5;241m1.0\u001b[39m]\n\u001b[1;32m     28\u001b[0m analyzer \u001b[38;5;241m=\u001b[39m BacktestAnalyzer(start_date, end_date, trade_date, factor_path, ret_path, ud_path, group)\n\u001b[0;32m---> 29\u001b[0m analyzer\u001b[38;5;241m.\u001b[39mprepare_data()\n\u001b[1;32m     30\u001b[0m analyzer\u001b[38;5;241m.\u001b[39mcalculate_effectiveness()\n\u001b[1;32m     31\u001b[0m analyzer\u001b[38;5;241m.\u001b[39mresult\n",
      "File \u001b[0;32m~/Documents/GitHub/Factor-Backtesting/notebooks/../src/factor_evaluation.py:26\u001b[0m, in \u001b[0;36mprepare_data\u001b[0;34m(self)\u001b[0m\n\u001b[1;32m     24\u001b[0m trade_date \u001b[38;5;241m=\u001b[39m pickle\u001b[38;5;241m.\u001b[39mload(\u001b[38;5;28mopen\u001b[39m(\u001b[38;5;28mself\u001b[39m\u001b[38;5;241m.\u001b[39mtrade_date, \u001b[38;5;124m'\u001b[39m\u001b[38;5;124mrb\u001b[39m\u001b[38;5;124m'\u001b[39m))\n\u001b[1;32m     25\u001b[0m factor_files \u001b[38;5;241m=\u001b[39m \u001b[38;5;28msorted\u001b[39m(os\u001b[38;5;241m.\u001b[39mlistdir(\u001b[38;5;28mself\u001b[39m\u001b[38;5;241m.\u001b[39mfactor_path))\n\u001b[0;32m---> 26\u001b[0m ret_files \u001b[38;5;241m=\u001b[39m \u001b[38;5;28msorted\u001b[39m(os\u001b[38;5;241m.\u001b[39mlistdir(\u001b[38;5;28mself\u001b[39m\u001b[38;5;241m.\u001b[39mret_path))\n\u001b[1;32m     28\u001b[0m \u001b[38;5;28;01mfor\u001b[39;00m file \u001b[38;5;129;01min\u001b[39;00m tqdm(factor_files):\n\u001b[1;32m     29\u001b[0m     date_tmp \u001b[38;5;241m=\u001b[39m file[:\u001b[38;5;241m-\u001b[39m\u001b[38;5;241m4\u001b[39m]\n",
      "\u001b[0;31mFileNotFoundError\u001b[0m: [Errno 2] No such file or directory: './data/date.pkl'"
     ]
    }
   ],
   "source": [
    "import sys\n",
    "import os\n",
    "import importlib.util\n",
    "\n",
    "# 获取当前文件的绝对路径\n",
    "current_dir = os.path.dirname(os.path.abspath('__file__'))\n",
    "# 添加 src 目录到 sys.path\n",
    "sys.path.append(os.path.join(current_dir, '../src'))\n",
    "\n",
    "# 动态导入模块\n",
    "module_name = 'factor_evaluation'\n",
    "module_path = os.path.join(current_dir, '../src', module_name + '.py')\n",
    "spec = importlib.util.spec_from_file_location(module_name, module_path)\n",
    "module = importlib.util.module_from_spec(spec)\n",
    "spec.loader.exec_module(module)\n",
    "\n",
    "# 导入类\n",
    "BacktestAnalyzer = module.BacktestAnalyzer\n",
    "\n",
    "start_date = '2020-05-05'\n",
    "end_date = '2023-05-05'\n",
    "trade_date = './data/date.pkl'\n",
    "factor_path = './factor/high_close_diff'\n",
    "ret_path = './data/data_ret1'\n",
    "ud_path = './data/data_ud'\n",
    "group = [0.0, 0.1, 0.2, 0.3, 0.4, 0.5, 0.6, 0.7, 0.8, 0.9, 1.0]\n",
    "\n",
    "analyzer = BacktestAnalyzer(start_date, end_date, trade_date, factor_path, ret_path, ud_path, group)\n",
    "analyzer.prepare_data()\n",
    "analyzer.calculate_effectiveness()\n",
    "analyzer.result"
   ]
  },
  {
   "cell_type": "code",
   "execution_count": 11,
   "metadata": {},
   "outputs": [
    {
     "name": "stdout",
     "output_type": "stream",
     "text": [
      "['/Users/zhaoziang/Documents/GitHub/Factor-Backtesting/notebooks', '/opt/anaconda3/lib/python311.zip', '/opt/anaconda3/lib/python3.11', '/opt/anaconda3/lib/python3.11/lib-dynload', '', '/opt/anaconda3/lib/python3.11/site-packages', '/opt/anaconda3/lib/python3.11/site-packages/aeosa', '../src', '../src', '../src', '../src', '../src', '../src', '../src', '../src']\n"
     ]
    }
   ],
   "source": [
    "print(sys.path)"
   ]
  }
 ],
 "metadata": {
  "kernelspec": {
   "display_name": "base",
   "language": "python",
   "name": "python3"
  },
  "language_info": {
   "codemirror_mode": {
    "name": "ipython",
    "version": 3
   },
   "file_extension": ".py",
   "mimetype": "text/x-python",
   "name": "python",
   "nbconvert_exporter": "python",
   "pygments_lexer": "ipython3",
   "version": "3.11.7"
  }
 },
 "nbformat": 4,
 "nbformat_minor": 2
}
