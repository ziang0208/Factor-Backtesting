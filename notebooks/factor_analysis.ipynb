{
 "cells": [
  {
   "cell_type": "code",
   "execution_count": null,
   "metadata": {},
   "outputs": [],
   "source": [
    "# 导入必要的库\n",
    "import pandas as pd\n",
    "import numpy as np\n",
    "import matplotlib.pyplot as plt\n",
    "from factor_evaluation import FactorEvaluator\n",
    "from report_generation import ReportGenerator\n",
    "\n",
    "# 定义参数\n",
    "start_date = '2020-01-01'\n",
    "end_date = '2022-11-30'\n",
    "trade_date = './data/date.pkl'\n",
    "factor_path = './feature/factor_final1'\n",
    "ret_path = './data/data_ret1'\n",
    "ud_path = './data/data_ud'\n",
    "group = [0.0, 0.1, 0.2, 0.3, 0.4, 0.5, 0.6, 0.7, 0.8, 0.9, 1.0]\n",
    "\n",
    "# 初始化 FactorEvaluator\n",
    "evaluator = FactorEvaluator(start_date, end_date, trade_date, factor_path, ret_path, ud_path, group)\n",
    "\n",
    "# 准备数据并计算指标\n",
    "evaluator.prepare_data()\n",
    "result, pnl, pro, ic = evaluator.calculate_effectiveness()\n",
    "\n",
    "# 初始化 ReportGenerator 并生成报告\n",
    "report_generator = ReportGenerator(result, pnl, pro, ic)\n",
    "report_generator.generate_report()\n",
    "\n",
    "# 查看结果\n",
    "result"
   ]
  }
 ],
 "metadata": {
  "language_info": {
   "name": "python"
  }
 },
 "nbformat": 4,
 "nbformat_minor": 2
}
