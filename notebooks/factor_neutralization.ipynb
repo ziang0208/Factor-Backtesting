{
 "cells": [
  {
   "cell_type": "code",
   "execution_count": 1,
   "metadata": {},
   "outputs": [],
   "source": [
    "import sys\n",
    "sys.path.append('../src')  \n",
    "import os\n",
    "from tqdm import tqdm\n",
    "from factor_neutralization import NeutralizationProcessor\n",
    "import pickle\n",
    "import warnings\n",
    "warnings.filterwarnings('ignore')\n",
    "\n",
    "current_dir = os.path.dirname(os.path.abspath('__file__'))\n"
   ]
  },
  {
   "cell_type": "code",
   "execution_count": 3,
   "metadata": {},
   "outputs": [
    {
     "name": "stderr",
     "output_type": "stream",
     "text": [
      "100%|██████████| 949/949 [00:13<00:00, 69.43it/s]\n"
     ]
    }
   ],
   "source": [
    "barra_path='../data/data_barra'\n",
    "factor_path='../data/factor/high_close_diff'    \n",
    "output_folder = '../data/factor_neutralization/high_close_diff_2' \n",
    "if not os.path.exists(output_folder):\n",
    "    os.makedirs(output_folder)\n",
    "mode = 3\n",
    "\n",
    "\n",
    "processor = NeutralizationProcessor(barra_path, factor_path, output_folder, mode)\n",
    "processor.process_data()"
   ]
  },
  {
   "cell_type": "code",
   "execution_count": 4,
   "metadata": {},
   "outputs": [
    {
     "name": "stderr",
     "output_type": "stream",
     "text": [
      "100%|██████████| 949/949 [00:13<00:00, 68.43it/s]\n"
     ]
    }
   ],
   "source": [
    "barra_path='../data/data_barra'\n",
    "factor_path='../data/factor/low_close_diff'    \n",
    "output_folder = '../data/factor_neutralization/low_close_diff_2' \n",
    "if not os.path.exists(output_folder):\n",
    "    os.makedirs(output_folder)\n",
    "mode = 3\n",
    "\n",
    "\n",
    "processor = NeutralizationProcessor(barra_path, factor_path, output_folder, mode)\n",
    "processor.process_data()"
   ]
  },
  {
   "cell_type": "code",
   "execution_count": 5,
   "metadata": {},
   "outputs": [
    {
     "name": "stderr",
     "output_type": "stream",
     "text": [
      "100%|██████████| 949/949 [00:14<00:00, 67.32it/s]\n"
     ]
    }
   ],
   "source": [
    "barra_path='../data/data_barra'\n",
    "factor_path='../data/factor/momentum_5d'    \n",
    "output_folder = '../data/factor_neutralization/momentum_5d_2' \n",
    "if not os.path.exists(output_folder):\n",
    "    os.makedirs(output_folder)\n",
    "mode = 3\n",
    "\n",
    "\n",
    "processor = NeutralizationProcessor(barra_path, factor_path, output_folder, mode)\n",
    "processor.process_data()"
   ]
  },
  {
   "cell_type": "code",
   "execution_count": 6,
   "metadata": {},
   "outputs": [
    {
     "name": "stderr",
     "output_type": "stream",
     "text": [
      "100%|██████████| 949/949 [00:14<00:00, 66.03it/s]\n"
     ]
    }
   ],
   "source": [
    "barra_path='../data/data_barra'\n",
    "factor_path='../data/factor/open_close_diff'    \n",
    "output_folder = '../data/factor_neutralization/open_close_diff_2' \n",
    "if not os.path.exists(output_folder):\n",
    "    os.makedirs(output_folder)\n",
    "mode = 3\n",
    "\n",
    "\n",
    "processor = NeutralizationProcessor(barra_path, factor_path, output_folder, mode)\n",
    "processor.process_data()"
   ]
  },
  {
   "cell_type": "code",
   "execution_count": 7,
   "metadata": {},
   "outputs": [
    {
     "name": "stderr",
     "output_type": "stream",
     "text": [
      "100%|██████████| 949/949 [00:13<00:00, 72.56it/s]\n"
     ]
    }
   ],
   "source": [
    "barra_path='../data/data_barra'\n",
    "factor_path='../data/factor/price_amplitude'    \n",
    "output_folder = '../data/factor_neutralization/price_amplitude_2' \n",
    "if not os.path.exists(output_folder):\n",
    "    os.makedirs(output_folder)\n",
    "mode = 3\n",
    "\n",
    "\n",
    "processor = NeutralizationProcessor(barra_path, factor_path, output_folder, mode)\n",
    "processor.process_data()"
   ]
  },
  {
   "cell_type": "code",
   "execution_count": 8,
   "metadata": {},
   "outputs": [
    {
     "name": "stderr",
     "output_type": "stream",
     "text": [
      "100%|██████████| 949/949 [00:14<00:00, 66.87it/s]\n"
     ]
    }
   ],
   "source": [
    "barra_path='../data/data_barra'\n",
    "factor_path='../data/factor/volume_turnover_ratio'    \n",
    "output_folder = '../data/factor_neutralization/volume_turnover_ratio_2' \n",
    "if not os.path.exists(output_folder):\n",
    "    os.makedirs(output_folder)\n",
    "mode = 3\n",
    "\n",
    "\n",
    "processor = NeutralizationProcessor(barra_path, factor_path, output_folder, mode)\n",
    "processor.process_data()"
   ]
  }
 ],
 "metadata": {
  "kernelspec": {
   "display_name": "venv",
   "language": "python",
   "name": "python3"
  },
  "language_info": {
   "codemirror_mode": {
    "name": "ipython",
    "version": 3
   },
   "file_extension": ".py",
   "mimetype": "text/x-python",
   "name": "python",
   "nbconvert_exporter": "python",
   "pygments_lexer": "ipython3",
   "version": "3.11.8"
  }
 },
 "nbformat": 4,
 "nbformat_minor": 2
}
